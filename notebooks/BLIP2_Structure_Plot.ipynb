{
 "cells": [
  {
   "cell_type": "code",
   "execution_count": null,
   "id": "6a9fa2c8-5337-4af1-ae50-05982df1d559",
   "metadata": {},
   "outputs": [],
   "source": [
    "import os\n",
    "import sys\n",
    "from dotenv import load_dotenv\n",
    "from pathlib import Path\n",
    "\n",
    "module_path = os.path.abspath(os.path.join('..'))\n",
    "\n",
    "if module_path not in sys.path:\n",
    "    sys.path.append(module_path)\n",
    "\n",
    "load_dotenv()"
   ]
  },
  {
   "cell_type": "code",
   "execution_count": null,
   "id": "d604b5f0-add2-4fb4-af0d-449f1ba1067c",
   "metadata": {},
   "outputs": [],
   "source": [
    "base_path = Path(os.environ.get(\"BASE_PATH\"))\n",
    "\n",
    "blip2_embeddings_path = base_path / \"results/a_cat_1549660/initial_noise\"\n",
    "\n",
    "glob = blip2_embeddings_path.glob(\"*.pt\")"
   ]
  },
  {
   "cell_type": "code",
   "execution_count": null,
   "id": "831816c2-c296-40e3-b4d8-6b296cc75663",
   "metadata": {},
   "outputs": [],
   "source": [
    "import torch\n",
    "embds = [ ]\n",
    "gen = []\n",
    "for i in glob:\n",
    "    print(f\"\\r{i}\", flush=True, end='')\n",
    "    embds.append(torch.load(i, map_location=\"cpu\"))\n",
    "    gen.append(int(str(i.name).split(\"_\")[0].replace(\"g\",\"\")))\n",
    "print(len(embds))\n",
    "print(gen[0])"
   ]
  },
  {
   "cell_type": "code",
   "execution_count": null,
   "id": "67719d22-167c-421e-937e-07b10f7f2245",
   "metadata": {},
   "outputs": [],
   "source": [
    "embds[0].shape\n",
    "flat_tensors = [t.squeeze(0) for t in embds]\n",
    "stacked_tensor = torch.stack(flat_tensors)\n",
    "data_matrix = stacked_tensor.numpy()\n",
    "# data_matrix = numpy.reshape(data_matrix, -1)\n",
    "print(f\"Shape of Blip2 Embeddings: {data_matrix.shape}\")"
   ]
  },
  {
   "cell_type": "code",
   "execution_count": null,
   "id": "075ae313-b8be-4039-8d01-1b06fb8d5ccd",
   "metadata": {},
   "outputs": [],
   "source": [
    "from sklearn.preprocessing import StandardScaler\n",
    "scaler = StandardScaler()\n",
    "scaled_data = scaler.fit_transform(data_matrix)"
   ]
  },
  {
   "cell_type": "code",
   "execution_count": null,
   "id": "5bfcbf18-4a7c-4e7c-a667-23e37e1578e9",
   "metadata": {},
   "outputs": [],
   "source": [
    "from sklearn.decomposition import PCA\n",
    "pca = PCA(n_components=0.95)\n",
    "principal_components = pca.fit_transform(scaled_data)"
   ]
  },
  {
   "cell_type": "code",
   "execution_count": null,
   "id": "3092cc46-acee-47ea-be8a-c37cb0d2405e",
   "metadata": {},
   "outputs": [],
   "source": [
    "import matplotlib.pyplot as plt\n",
    "import numpy as np\n",
    "gen_nums = np.array([int(g) for g in gen])\n",
    "min_gen = gen_nums.min() \n",
    "max_gen = gen_nums.max() \n",
    "\n",
    "\n",
    "\n",
    "plt.figure(figsize=(8, 6))\n",
    "\n",
    "\n",
    "\n",
    "plt.scatter(\n",
    "    principal_components[:, 0],\n",
    "    principal_components[:, 1],\n",
    "    c=gen_nums,\n",
    "    cmap='viridis',\n",
    "    s=5,\n",
    "    alpha=0.7)\n",
    "plt.title('2D-PCA-Plot (PC1 vs. PC2)')\n",
    "plt.xlabel('PC1')\n",
    "plt.ylabel('PC2')\n",
    "plt.grid(True)\n",
    "plt.show()"
   ]
  },
  {
   "cell_type": "markdown",
   "id": "744a3a74-fead-4459-ace5-7dbe880e7570",
   "metadata": {},
   "source": [
    "# "
   ]
  }
 ],
 "metadata": {
  "kernelspec": {
   "display_name": "Python 3 (ipykernel)",
   "language": "python",
   "name": "python3"
  },
  "language_info": {
   "codemirror_mode": {
    "name": "ipython",
    "version": 3
   },
   "file_extension": ".py",
   "mimetype": "text/x-python",
   "name": "python",
   "nbconvert_exporter": "python",
   "pygments_lexer": "ipython3",
   "version": "3.12.9"
  }
 },
 "nbformat": 4,
 "nbformat_minor": 5
}
