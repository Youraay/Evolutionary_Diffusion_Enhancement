{
 "cells": [
  {
   "cell_type": "code",
   "id": "initial_id",
   "metadata": {
    "collapsed": true,
    "ExecuteTime": {
     "end_time": "2025-10-07T12:21:47.535925Z",
     "start_time": "2025-10-07T12:21:47.533151Z"
    }
   },
   "source": [
    "import torch\n",
    "from pathlib import Path\n",
    "\n",
    "path = Path(\"/Users/yourisinziri/thesis/ressources/blip2_mean_embeddings/a-cat.pt\")\n",
    "\n",
    "embd =torch.load(path)\n"
   ],
   "outputs": [],
   "execution_count": 6
  },
  {
   "metadata": {},
   "cell_type": "code",
   "outputs": [],
   "execution_count": null,
   "source": "",
   "id": "c4c36a65ceb4cdfd"
  },
  {
   "metadata": {
    "ExecuteTime": {
     "end_time": "2025-10-07T12:21:57.665830Z",
     "start_time": "2025-10-07T12:21:57.663310Z"
    }
   },
   "cell_type": "code",
   "source": "embd.size()",
   "id": "82c854cfa00e7410",
   "outputs": [
    {
     "data": {
      "text/plain": [
       "torch.Size([1, 1408])"
      ]
     },
     "execution_count": 7,
     "metadata": {},
     "output_type": "execute_result"
    }
   ],
   "execution_count": 7
  }
 ],
 "metadata": {
  "kernelspec": {
   "display_name": "Python 3",
   "language": "python",
   "name": "python3"
  },
  "language_info": {
   "codemirror_mode": {
    "name": "ipython",
    "version": 2
   },
   "file_extension": ".py",
   "mimetype": "text/x-python",
   "name": "python",
   "nbconvert_exporter": "python",
   "pygments_lexer": "ipython2",
   "version": "2.7.6"
  }
 },
 "nbformat": 4,
 "nbformat_minor": 5
}
