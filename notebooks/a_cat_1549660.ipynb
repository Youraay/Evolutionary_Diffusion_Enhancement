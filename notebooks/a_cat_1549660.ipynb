{
 "cells": [
  {
   "cell_type": "code",
   "execution_count": null,
   "id": "3c453e88-f1c1-4133-9d53-15c984a5fb4a",
   "metadata": {},
   "outputs": [],
   "source": [
    "from pathlib import Path\n",
    "import torch\n",
    "import numpy as np\n",
    "path = Path(\"/scratch/dldevel/sinziri/Evolutionary_Diffusion_Enhancement/results/a_cat_1549660/\")"
   ]
  },
  {
   "cell_type": "markdown",
   "id": "a9dbdff0-2e10-4711-b712-dccea30904fb",
   "metadata": {},
   "source": [
    "# Fitness Scores over Generations"
   ]
  },
  {
   "cell_type": "code",
   "execution_count": null,
   "id": "98291034-2656-4178-80d7-abd80c07cd72",
   "metadata": {},
   "outputs": [],
   "source": [
    "pil_path = path / \"images\"\n",
    "# for i in pil_path.iterdir():\n",
    "#     print(i)\n",
    "glob = pil_path.glob(\"*.JPEG\")\n",
    "results =[] \n",
    "for p in glob:\n",
    "    \n",
    "    results.append(p.name)\n",
    "\n",
    "print(len(results))"
   ]
  },
  {
   "cell_type": "code",
   "execution_count": null,
   "id": "a4ff06da-44be-418f-801e-4a1c0aab2cb4",
   "metadata": {},
   "outputs": [],
   "source": [
    "data = [r.split(\"_\") for r in results]\n",
    "print(len(data))\n",
    "print(data[0])\n",
    "\n",
    "data_x = [{\"gen\" : int(d[0].replace(\"g\", \"\")),\n",
    "          \"id\" : d[2],\n",
    "          \"score\" : float(d[-1].replace(\"f\", \"\").replace(\".JPEG\", \"\"))} for d in data]\n",
    "\n",
    "print(data_x[0])\n",
    "print(\"test\")"
   ]
  },
  {
   "cell_type": "code",
   "execution_count": null,
   "id": "46610680-c421-4894-adc9-4a003bc78ed5",
   "metadata": {},
   "outputs": [],
   "source": [
    "import pandas as pd\n",
    "import numpy as np\n",
    "import matplotlib.pyplot as plt\n",
    "\n",
    "df = pd.DataFrame(data_x)\n",
    "df = df.sort_values(by='gen', ascending=True)\n",
    "generations = df['gen'].unique()\n",
    "\n",
    "\n",
    "grouped_data = [df['score'][df['gen'] == g].values for g in generations]\n",
    "labels = generations\n",
    "\n",
    "fig, ax = plt.subplots(figsize=(10, 6))\n",
    "\n",
    "violins = ax.violinplot(\n",
    "    grouped_data,\n",
    "\n",
    "    positions=np.arange(1, len(labels) + 1), \n",
    "    vert=True,            \n",
    "    showmeans=True,       \n",
    "    showmedians=True,     \n",
    "    showextrema=True      \n",
    ")\n",
    "\n",
    "\n",
    "for pc in violins['bodies']:\n",
    "    pc.set_facecolor('#4682B4')  # Stahlblau\n",
    "    pc.set_edgecolor('black')\n",
    "    pc.set_alpha(0.7)\n",
    "\n",
    "\n",
    "ax.set_title('Distribution of Fitness over Generations')\n",
    "ax.set_ylabel('Fitness')\n",
    "ax.set_xlabel('Generation')\n",
    "\n",
    "\n",
    "ax.set_xticks(np.arange(1, len(labels) + 1))\n",
    "ax.set_xticklabels(labels)\n",
    "\n",
    "plt.grid(True, linestyle='--', alpha=0.5, axis='y')\n",
    "plt.tight_layout()\n",
    "plt.show()"
   ]
  },
  {
   "cell_type": "markdown",
   "id": "4678e6fe-db3b-4302-955c-ac717a6ad6f6",
   "metadata": {},
   "source": [
    "# Structure Analysis of the BLIP2 Embeddings"
   ]
  },
  {
   "cell_type": "code",
   "execution_count": null,
   "id": "94918415-3b6f-4f4c-97b4-30e2ceac3e4e",
   "metadata": {},
   "outputs": [],
   "source": [
    "blip2_embeddings_path = path / \"blip2\"\n",
    "\n",
    "glob = blip2_embeddings_path.glob(\"*.pt\")\n",
    "embds =[]\n",
    "gen = []\n",
    "for i in glob:\n",
    "    print(f\"\\r{i}\", flush=True, end='')\n",
    "    embds.append(torch.load(i, map_location=\"cpu\"))\n",
    "    gen.append(int(str(i.name).split(\"_\")[1].replace(\"g\",\"\")))\n",
    "print(len(embds))\n",
    "print(gen[0])"
   ]
  },
  {
   "cell_type": "code",
   "execution_count": null,
   "id": "6b610095-83bd-49c9-b419-605baac42093",
   "metadata": {},
   "outputs": [],
   "source": [
    "\n",
    "print(embds[0].shape)\n",
    "# flat_tensors = [t.squeeze(0) for t in embds]\n",
    "stacked_tensor = torch.cat(embds, dim=0)\n",
    "data_matrix = stacked_tensor.numpy()\n",
    "# data_matrix = np.reshape(data_matrix, -1)\n",
    "print(f\"Shape of Data: {data_matrix.shape}\")"
   ]
  },
  {
   "cell_type": "code",
   "execution_count": null,
   "id": "67b47d5a-abcc-47e8-a725-1470c591d8db",
   "metadata": {},
   "outputs": [],
   "source": [
    "from sklearn.preprocessing import StandardScaler\n",
    "scaler = StandardScaler()\n",
    "scaled_data = scaler.fit_transform(data_matrix)"
   ]
  },
  {
   "cell_type": "code",
   "execution_count": null,
   "id": "4e9cfba0-9399-4eec-a69e-2961dbe5ef4d",
   "metadata": {},
   "outputs": [],
   "source": [
    "from sklearn.decomposition import PCA\n",
    "pca = PCA(n_components=0.95)\n",
    "principal_components = pca.fit_transform(scaled_data)"
   ]
  },
  {
   "cell_type": "code",
   "execution_count": null,
   "id": "59f75881-422d-40b7-b5d0-47cb1d295b02",
   "metadata": {},
   "outputs": [],
   "source": [
    "import matplotlib.pyplot as plt\n",
    "import numpy as np\n",
    "gen_nums = np.array([int(g) for g in gen])\n",
    "min_gen = gen_nums.min() \n",
    "max_gen = gen_nums.max() \n",
    "\n",
    "\n",
    "plt.figure(figsize=(8, 6))\n",
    "\n",
    "\n",
    "\n",
    "plt.scatter(\n",
    "    principal_components[:, 0],\n",
    "    principal_components[:, 1],\n",
    "    c=gen_nums,\n",
    "    cmap='viridis',\n",
    "    s=5,\n",
    "    alpha=0.7)\n",
    "plt.title('2D-PCA-Plot (PC1 vs. PC2)')\n",
    "plt.xlabel('PC1')\n",
    "plt.ylabel('PC2')\n",
    "plt.grid(True)\n",
    "plt.show()"
   ]
  },
  {
   "cell_type": "code",
   "execution_count": null,
   "id": "f6104a68-ecfd-49f5-a5cb-1cdc7fd67b5b",
   "metadata": {},
   "outputs": [],
   "source": [
    "blip2_explained_variance = pca.explained_variance_ratio_\n",
    "print(\"Explained Variance: (PC1 - PC4):\")\n",
    "for i in range(4):\n",
    "    variance_percentage = blip2_explained_variance[i] * 100\n",
    "    print(f\"Komponente {i+1} (PC{i+1}): {variance_percentage:.2f}%\")"
   ]
  },
  {
   "cell_type": "markdown",
   "id": "929376a0-1464-43a9-8af5-cb21f89dea95",
   "metadata": {},
   "source": [
    "# Noise Analysis"
   ]
  },
  {
   "cell_type": "code",
   "execution_count": null,
   "id": "78d22e08-ef01-4fb2-9d15-b3025593e509",
   "metadata": {},
   "outputs": [],
   "source": [
    "path_initial_noise = path / \"initial_noise\"\n",
    "\n",
    "glob = path_initial_noise.glob(\"*.pt\")\n",
    "embds =[]\n",
    "gen = []\n",
    "for i in glob:\n",
    "    print(f\"\\r{i}\", flush=True, end='')\n",
    "    embds.append(torch.load(i, map_location=\"cpu\"))\n",
    "    gen.append(int(str(i.name).split(\"_\")[0].replace(\"g\",\"\")))\n",
    "print(len(embds))\n",
    "print(gen[0])"
   ]
  },
  {
   "cell_type": "code",
   "execution_count": null,
   "id": "6dc62b2c-2ade-47c6-acc5-e40f2520d1d9",
   "metadata": {},
   "outputs": [],
   "source": [
    "print(embds[0].shape)\n",
    "stacked_tensor = torch.cat(embds, dim=0)\n",
    "data_matrix = stacked_tensor.numpy()\n",
    "num_samples = data_matrix.shape[0]\n",
    "num_features = data_matrix.shape[1] * data_matrix.shape[2] * data_matrix.shape[3]\n",
    "data_2d = data_matrix.reshape(num_samples, num_features)\n",
    "print(f\"Shape Data: {data_2d.shape}\")"
   ]
  },
  {
   "cell_type": "code",
   "execution_count": null,
   "id": "ec027c70-5027-4b6f-8123-8c90824cda60",
   "metadata": {},
   "outputs": [],
   "source": [
    "from sklearn.decomposition import PCA\n",
    "noise_pca = PCA(n_components=4)\n",
    "noise_principal_components = noise_pca.fit_transform(data_2d)"
   ]
  },
  {
   "cell_type": "code",
   "execution_count": null,
   "id": "5b77673d-9781-4721-9a6c-604ab2b08787",
   "metadata": {},
   "outputs": [],
   "source": [
    "import matplotlib.pyplot as plt\n",
    "import numpy as np\n",
    "gen_nums = np.array([int(g) for g in gen])\n",
    "min_gen = gen_nums.min() \n",
    "max_gen = gen_nums.max() \n",
    "\n",
    "plt.figure(figsize=(8, 6))\n",
    "\n",
    "plt.scatter(\n",
    "    noise_principal_components[:, 0],\n",
    "    noise_principal_components[:, 1],\n",
    "    c=gen_nums,\n",
    "    cmap='viridis',\n",
    "    s=5,\n",
    "    alpha=0.7)\n",
    "plt.title('2D-PCA-Plot (PC1 vs. PC2)')\n",
    "plt.xlabel('PC1')\n",
    "plt.ylabel('PC2')\n",
    "plt.grid(True)\n",
    "plt.show()"
   ]
  },
  {
   "cell_type": "code",
   "execution_count": null,
   "id": "41160548-bcaf-4c94-84bb-f71213a326a7",
   "metadata": {},
   "outputs": [],
   "source": [
    "import matplotlib.pyplot as plt\n",
    "import numpy as np\n",
    "gen_nums = np.array([int(g) for g in gen])\n",
    "min_gen = gen_nums.min() # Sollte 0 sein\n",
    "max_gen = gen_nums.max() # Sollte 40 sein\n",
    "\n",
    "plt.figure(figsize=(8, 6))\n",
    "\n",
    "plt.scatter(\n",
    "    noise_principal_components[:, 2],\n",
    "    noise_principal_components[:, 3],\n",
    "    c=gen_nums,\n",
    "    cmap='viridis',\n",
    "    s=5,\n",
    "    alpha=0.7)\n",
    "plt.title('2D-PCA-Plot (PC3 vs. PC4)')\n",
    "plt.xlabel('PC3')\n",
    "plt.ylabel('PC4')\n",
    "plt.grid(True)\n",
    "plt.show()"
   ]
  },
  {
   "cell_type": "code",
   "execution_count": null,
   "id": "20740e1e-4fd4-431b-be2c-a86370f61bd7",
   "metadata": {},
   "outputs": [],
   "source": [
    "explained_variance = noise_pca.explained_variance_ratio_\n",
    "print(\"Explained Variance: (PC1 - PC4):\")\n",
    "for i in range(4):\n",
    "    variance_percentage = explained_variance[i] * 100\n",
    "    print(f\"Component {i+1} (PC{i+1}): {variance_percentage:.2f}%\")"
   ]
  },
  {
   "cell_type": "code",
   "execution_count": null,
   "id": "680a35f0-f914-4d04-be86-fc5237e13953",
   "metadata": {},
   "outputs": [],
   "source": [
    "import umap\n",
    "\n",
    "reducer = umap.UMAP()"
   ]
  },
  {
   "cell_type": "code",
   "execution_count": null,
   "id": "833b6a82-f80b-4166-a46a-03216f6d9c1e",
   "metadata": {},
   "outputs": [],
   "source": [
    "from sklearn.preprocessing import StandardScaler\n",
    "n_scaler = StandardScaler()\n",
    "n_scaled_data = n_scaler.fit_transform(data_2d)"
   ]
  },
  {
   "cell_type": "code",
   "execution_count": null,
   "id": "ac2de8a6-5e1b-47e4-a207-24e27114d574",
   "metadata": {},
   "outputs": [],
   "source": [
    "embedding = reducer.fit_transform(n_scaled_data)\n",
    "embedding.shape"
   ]
  },
  {
   "cell_type": "code",
   "execution_count": null,
   "id": "d06a19e2-5068-45b9-8215-fe1e45e247c5",
   "metadata": {},
   "outputs": [],
   "source": [
    "plt.scatter(\n",
    "    embedding[:, 0],\n",
    "    embedding[:, 1],\n",
    "    c=gen_nums,\n",
    "    s=5,\n",
    "    alpha=0.7)\n",
    "plt.gca().set_aspect('equal', 'datalim')\n",
    "plt.title('UMAP projection of Initial Noise', fontsize=12);"
   ]
  },
  {
   "cell_type": "code",
   "execution_count": null,
   "id": "b8c11e26-0b0a-4b50-92fb-487c0e68053e",
   "metadata": {},
   "outputs": [],
   "source": [
    "pc1 = noise_pca.components_[0]\n",
    "pc2 = noise_pca.components_[1]"
   ]
  },
  {
   "cell_type": "code",
   "execution_count": null,
   "id": "ebe4c89f-2778-4f0b-83ab-79dd6a9bb6da",
   "metadata": {},
   "outputs": [],
   "source": [
    "import PIL\n",
    "def latents_to_rgb(latents):\n",
    "    \"\"\"\n",
    "    Convert the SDXL latents (4 channels: Luminance, Cyan, Red, Pattern Structure) to RGB tensors (3 channels).\n",
    "    Explanation: https://huggingface.co/blog/TimothyAlexisVass/explaining-the-sdxl-latent-space#the-4-channels-of-the-sdxl-latents\n",
    "    \"\"\"\n",
    "    weights = (\n",
    "        (60, -60, 25, -70),\n",
    "        (60,  -5, 15, -50),\n",
    "        (60,  10, -5, -35),\n",
    "    )\n",
    "\n",
    "    weights_tensor = torch.t(torch.tensor(weights, dtype=latents.dtype).to(latents.device))\n",
    "    biases_tensor = torch.tensor((150, 140, 130), dtype=latents.dtype).to(latents.device)\n",
    "    rgb_tensor = torch.einsum(\"...lxy,lr -> ...rxy\", latents, weights_tensor) + biases_tensor.unsqueeze(-1).unsqueeze(-1)\n",
    "    \n",
    "    # Handle batch dimension - squeeze if batch size is 1\n",
    "    if rgb_tensor.dim() == 4 and rgb_tensor.shape[0] == 1:\n",
    "        rgb_tensor = rgb_tensor.squeeze(0)  # Remove batch dimension: [1, 3, H, W] -> [3, H, W]\n",
    "    \n",
    "    # Ensure we have [C, H, W] format before transpose to [H, W, C]\n",
    "    if rgb_tensor.dim() == 3:\n",
    "        image_array = rgb_tensor.clamp(0, 255).byte().cpu().numpy().transpose(1, 2, 0)\n",
    "    else:\n",
    "        raise ValueError(f\"Unexpected tensor shape: {rgb_tensor.shape}. Expected [C, H, W] or [1, C, H, W]\")\n",
    "\n",
    "    return PIL.Image.fromarray(image_array)\n",
    "\n"
   ]
  },
  {
   "cell_type": "code",
   "execution_count": null,
   "id": "6aedb23c-cc18-4f6a-b11f-7b9fd7ffd2fe",
   "metadata": {},
   "outputs": [],
   "source": [
    "t_pc1 = torch.from_numpy(pc1)\n",
    "pc_1_shaped = t_pc1.reshape(embds[0].shape)\n",
    "print(embds[0].shape)\n",
    "print(pc_1_shaped.shape)\n",
    "t_pc2 = torch.from_numpy(pc2)\n",
    "pc_2_shaped = t_pc2.reshape(embds[0].shape)\n",
    "print(pc_2_shaped.shape)"
   ]
  },
  {
   "cell_type": "code",
   "execution_count": null,
   "id": "7fe45b0f-61a7-4311-8776-f0fdd9cab2bd",
   "metadata": {},
   "outputs": [],
   "source": [
    "normal = latents_to_rgb(embds[0])\n",
    "pc1_rgb =latents_to_rgb(pc_1_shaped)\n",
    "pc2_rgb =latents_to_rgb(pc_2_shaped)\n",
    "delta_tensor = pc_1_shaped - pc_2_shaped\n",
    "delta_rgb = latents_to_rgb(delta_tensor)"
   ]
  },
  {
   "cell_type": "code",
   "execution_count": null,
   "id": "074f0b90-b56e-473d-84f1-2d1833467481",
   "metadata": {},
   "outputs": [],
   "source": [
    "fig, achsen = plt.subplots(1, 4, figsize=(10, 5))\n",
    "\n",
    "achsen[0].imshow(pc1_rgb)\n",
    "achsen[0].set_title('PC1')\n",
    "achsen[0].axis('off') \n",
    "\n",
    "\n",
    "achsen[1].imshow(pc2_rgb)\n",
    "achsen[1].set_title('PC2')\n",
    "achsen[1].axis('off') \n",
    "\n",
    "achsen[2].imshow(delta_rgb)\n",
    "achsen[2].set_title('Delta')\n",
    "achsen[2].axis('off') \n",
    "\n",
    "\n",
    "achsen[3].imshow(delta_rgb)\n",
    "achsen[3].set_title('Delta')\n",
    "achsen[3].axis('off') \n",
    "\n",
    "plt.tight_layout()\n",
    "\n",
    "\n",
    "plt.show()"
   ]
  },
  {
   "cell_type": "code",
   "execution_count": null,
   "id": "4b784b11-ed26-4b06-83e5-5892a5f91f40",
   "metadata": {},
   "outputs": [],
   "source": []
  }
 ],
 "metadata": {
  "kernelspec": {
   "display_name": "Python 3 (ipykernel)",
   "language": "python",
   "name": "python3"
  },
  "language_info": {
   "codemirror_mode": {
    "name": "ipython",
    "version": 3
   },
   "file_extension": ".py",
   "mimetype": "text/x-python",
   "name": "python",
   "nbconvert_exporter": "python",
   "pygments_lexer": "ipython3",
   "version": "3.12.9"
  }
 },
 "nbformat": 4,
 "nbformat_minor": 5
}
